{
  "nbformat": 4,
  "nbformat_minor": 0,
  "metadata": {
    "colab": {
      "name": "Ian Freitas Questão 3 Desafio Murano Investimentos.ipynb",
      "provenance": []
    },
    "kernelspec": {
      "name": "python3",
      "display_name": "Python 3"
    },
    "language_info": {
      "name": "python"
    }
  },
  "cells": [
    {
      "cell_type": "code",
      "metadata": {
        "id": "WcmoqVtFl78h",
        "colab": {
          "base_uri": "https://localhost:8080/"
        },
        "outputId": "c552bee0-b9a9-434e-e5cc-9f4e9871aee2"
      },
      "source": [
        "def Q3(idade_atual, idade_final, valor_futuro, taxa_fixa):\n",
        "  periodo_tempo = (idade_final - idade_atual)*12\n",
        "  \n",
        "  vf = valor_futuro\n",
        "  n = periodo_tempo\n",
        "  i = taxa_fixa/100\n",
        "\n",
        "  pmt = vf/(((1+i)**n-1)/i)\n",
        "  \n",
        "  print('O individuo precisara depositar mensalmente R$ '+str(round(pmt,2)))\n",
        "\n",
        "Q3(18, 50, 3000000, 0.5)"
      ],
      "execution_count": null,
      "outputs": [
        {
          "output_type": "stream",
          "text": [
            "O individuo precisara depositar mensalmente R$ 2591.39\n"
          ],
          "name": "stdout"
        }
      ]
    }
  ]
}